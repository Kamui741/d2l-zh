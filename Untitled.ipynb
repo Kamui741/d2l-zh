{
 "cells": [
  {
   "cell_type": "code",
   "execution_count": null,
   "id": "e7fcf33a-c014-4544-9c87-921d414436a4",
   "metadata": {},
   "outputs": [],
   "source": [
    "import torch\n"
   ]
  },
  {
   "cell_type": "code",
   "execution_count": 1,
   "id": "3a6ae451-5482-4478-91ca-f672e81d8abe",
   "metadata": {},
   "outputs": [
    {
     "ename": "NameError",
     "evalue": "name 'torch' is not defined",
     "output_type": "error",
     "traceback": [
      "\u001b[0;31m---------------------------------------------------------------------------\u001b[0m",
      "\u001b[0;31mNameError\u001b[0m                                 Traceback (most recent call last)",
      "Cell \u001b[0;32mIn[1], line 1\u001b[0m\n\u001b[0;32m----> 1\u001b[0m x \u001b[38;5;241m=\u001b[39m \u001b[43mtorch\u001b[49m\u001b[38;5;241m.\u001b[39marange(\u001b[38;5;241m12\u001b[39m)\n\u001b[1;32m      2\u001b[0m x\n",
      "\u001b[0;31mNameError\u001b[0m: name 'torch' is not defined"
     ]
    }
   ],
   "source": [
    "x = torch.arange(12)\n",
    "x\n"
   ]
  },
  {
   "cell_type": "code",
   "execution_count": null,
   "id": "1220cdcd-8528-4918-b453-225ff7f7c83e",
   "metadata": {},
   "outputs": [
    {
     "data": {
      "text/plain": [
       "torch.Size([12])"
      ]
     },
     "execution_count": 99,
     "metadata": {},
     "output_type": "execute_result"
    }
   ],
   "source": [
    "x.shape\n"
   ]
  },
  {
   "cell_type": "markdown",
   "id": "4d2382b9-a3b1-4e25-acc8-4012e17930f2",
   "metadata": {},
   "source": [
    "shape 不能加括号\n"
   ]
  },
  {
   "cell_type": "code",
   "execution_count": null,
   "id": "4fa1838e-9f67-4b9a-b4db-ece9e0bb2d52",
   "metadata": {},
   "outputs": [
    {
     "data": {
      "text/plain": [
       "12"
      ]
     },
     "execution_count": 100,
     "metadata": {},
     "output_type": "execute_result"
    }
   ],
   "source": [
    "x.numel()\n"
   ]
  },
  {
   "cell_type": "code",
   "execution_count": null,
   "id": "338ce436-b3fd-4a07-aed0-4cbd5420c9d7",
   "metadata": {},
   "outputs": [
    {
     "data": {
      "text/plain": [
       "tensor([[ 0,  1,  2,  3],\n",
       "        [ 4,  5,  6,  7],\n",
       "        [ 8,  9, 10, 11]])"
      ]
     },
     "execution_count": 101,
     "metadata": {},
     "output_type": "execute_result"
    }
   ],
   "source": [
    "X = x.reshape(-1, 4)\n",
    "X\n"
   ]
  },
  {
   "cell_type": "code",
   "execution_count": null,
   "id": "e5220b14-05b3-44b6-98de-cb15244c8f60",
   "metadata": {},
   "outputs": [
    {
     "data": {
      "text/plain": [
       "tensor([[[0., 0., 0., 0.],\n",
       "         [0., 0., 0., 0.],\n",
       "         [0., 0., 0., 0.]],\n",
       "\n",
       "        [[0., 0., 0., 0.],\n",
       "         [0., 0., 0., 0.],\n",
       "         [0., 0., 0., 0.]]])"
      ]
     },
     "execution_count": 102,
     "metadata": {},
     "output_type": "execute_result"
    }
   ],
   "source": [
    "torch.zeros(2, 3, 4)\n"
   ]
  },
  {
   "cell_type": "code",
   "execution_count": null,
   "id": "0fa0b915-c0fc-4a59-a65b-5e96914d33d5",
   "metadata": {},
   "outputs": [
    {
     "data": {
      "text/plain": [
       "tensor([[[1., 1., 1., 1.],\n",
       "         [1., 1., 1., 1.],\n",
       "         [1., 1., 1., 1.]],\n",
       "\n",
       "        [[1., 1., 1., 1.],\n",
       "         [1., 1., 1., 1.],\n",
       "         [1., 1., 1., 1.]]])"
      ]
     },
     "execution_count": 103,
     "metadata": {},
     "output_type": "execute_result"
    }
   ],
   "source": [
    "torch.ones(2, 3, 4)\n"
   ]
  },
  {
   "cell_type": "code",
   "execution_count": null,
   "id": "224b94d2-49a5-4802-9e79-6f663a6025e9",
   "metadata": {},
   "outputs": [
    {
     "data": {
      "text/plain": [
       "tensor([[ 1.4614,  0.3263, -0.0632, -0.6872],\n",
       "        [-0.9669, -0.4208, -1.7901,  1.4803],\n",
       "        [-0.4269,  0.7174,  0.6564,  0.6287]])"
      ]
     },
     "execution_count": 104,
     "metadata": {},
     "output_type": "execute_result"
    }
   ],
   "source": [
    "torch.randn(3, 4)\n"
   ]
  },
  {
   "cell_type": "code",
   "execution_count": null,
   "id": "26cf4531-6ccc-49ad-aa5d-42d94ba37acb",
   "metadata": {},
   "outputs": [
    {
     "data": {
      "text/plain": [
       "tensor([[2, 1, 4, 3],\n",
       "        [1, 2, 3, 4],\n",
       "        [4, 3, 2, 1]])"
      ]
     },
     "execution_count": 105,
     "metadata": {},
     "output_type": "execute_result"
    }
   ],
   "source": [
    "torch.tensor([[2, 1, 4, 3], [1, 2, 3, 4], [4, 3, 2, 1]])\n"
   ]
  },
  {
   "cell_type": "code",
   "execution_count": null,
   "id": "5bed362f-41c2-4266-abec-b60e8c802be4",
   "metadata": {},
   "outputs": [
    {
     "data": {
      "text/plain": [
       "(tensor([ 3.,  4.,  6., 10.]),\n",
       " tensor([-1.,  0.,  2.,  6.]),\n",
       " tensor([ 2.,  4.,  8., 16.]),\n",
       " tensor([0.5000, 1.0000, 2.0000, 4.0000]),\n",
       " tensor([ 1.,  4., 16., 64.]))"
      ]
     },
     "execution_count": 106,
     "metadata": {},
     "output_type": "execute_result"
    }
   ],
   "source": [
    "x = torch.tensor([1.0, 2, 4, 8])\n",
    "y = torch.tensor([2, 2, 2, 2])\n",
    "x + y, x - y, x * y, x / y, x ** y\n"
   ]
  },
  {
   "cell_type": "code",
   "execution_count": null,
   "id": "e0953607-516e-49d3-8894-941c91bce4ca",
   "metadata": {},
   "outputs": [
    {
     "data": {
      "text/plain": [
       "tensor([2.7183e+00, 7.3891e+00, 5.4598e+01, 2.9810e+03])"
      ]
     },
     "execution_count": 107,
     "metadata": {},
     "output_type": "execute_result"
    }
   ],
   "source": [
    "torch.exp(x)\n"
   ]
  },
  {
   "cell_type": "code",
   "execution_count": null,
   "id": "88316d56-f7eb-4193-be8f-4b39e0b17bd8",
   "metadata": {},
   "outputs": [
    {
     "data": {
      "text/plain": [
       "(tensor([[ 0.,  1.,  2.,  3.],\n",
       "         [ 4.,  5.,  6.,  7.],\n",
       "         [ 8.,  9., 10., 11.],\n",
       "         [ 2.,  1.,  4.,  3.],\n",
       "         [ 1.,  2.,  3.,  4.],\n",
       "         [ 4.,  3.,  2.,  1.]]),\n",
       " tensor([[ 0.,  1.,  2.,  3.,  2.,  1.,  4.,  3.],\n",
       "         [ 4.,  5.,  6.,  7.,  1.,  2.,  3.,  4.],\n",
       "         [ 8.,  9., 10., 11.,  4.,  3.,  2.,  1.]]))"
      ]
     },
     "execution_count": 108,
     "metadata": {},
     "output_type": "execute_result"
    }
   ],
   "source": [
    "X = torch.arange(12, dtype=torch.float32).reshape((3, 4))\n",
    "Y = torch.tensor([[2.0, 1, 4, 3], [1, 2, 3, 4], [4, 3, 2, 1]])\n",
    "torch.cat((X, Y), dim=0), torch.cat((X, Y), dim=1)\n"
   ]
  },
  {
   "cell_type": "markdown",
   "id": "6372c6b4-ab23-4fc4-bf40-56702023f946",
   "metadata": {},
   "source": [
    "我来详细解释这两个命令的操作过程和结果：\n",
    "\n",
    "---\n",
    "\n",
    "### **1. 张量定义**\n",
    "\n",
    "-   **X**：通过以下代码生成：\n",
    "\n",
    "    ```python\n",
    "    X = torch.arange(12, dtype=torch.float32).reshape((3,4))\n",
    "    ```\n",
    "\n",
    "    -   `torch.arange(12)` 生成 `[0, 1, 2, ..., 11]`，转换为 `float32` 类型。\n",
    "\n",
    "    -   `reshape((3,4))` 将其重塑为 **3 行 4 列** 的矩阵：\n",
    "\n",
    "        ```\n",
    "        tensor([[ 0.,  1.,  2.,  3.],\n",
    "                [ 4.,  5.,  6.,  7.],\n",
    "                [ 8.,  9., 10., 11.]])\n",
    "        ```\n",
    "\n",
    "-   **Y**：直接定义为：\n",
    "\n",
    "    ```python\n",
    "    Y = torch.tensor([[2.0, 1, 4, 3], [1, 2, 3, 4], [4, 3, 2, 1]])\n",
    "    ```\n",
    "\n",
    "    -   它是一个 **3 行 4 列** 的矩阵：\n",
    "\n",
    "        ```\n",
    "        tensor([[2., 1., 4., 3.],\n",
    "                [1., 2., 3., 4.],\n",
    "                [4., 3., 2., 1.]])\n",
    "        ```\n",
    "\n",
    "---\n",
    "\n",
    "### **2. `torch.cat((X, Y), dim=0)`**\n",
    "\n",
    "-   **功能**：沿**行方向（垂直方向）** 拼接 `X` 和 `Y`。\n",
    "\n",
    "-   **操作逻辑**：\n",
    "\n",
    "    -   `X` 和 `Y` 的列数必须一致（均为 4 列）。\n",
    "    -   将 `Y` 的行追加到 `X` 的行下方。\n",
    "\n",
    "-   **结果形状**：`(3+3, 4) = (6, 4)`\n",
    "\n",
    "-   **输出结果**：\n",
    "\n",
    "    ```\n",
    "    tensor([[ 0.,  1.,  2.,  3.],\n",
    "            [ 4.,  5.,  6.,  7.],\n",
    "            [ 8.,  9., 10., 11.],\n",
    "            [ 2.,  1.,  4.,  3.],  # Y 的第一行\n",
    "            [ 1.,  2.,  3.,  4.],  # Y 的第二行\n",
    "            [ 4.,  3.,  2.,  1.]]) # Y 的第三行\n",
    "    ```\n",
    "\n",
    "---\n",
    "\n",
    "### **3. `torch.cat((X, Y), dim=1)`**\n",
    "\n",
    "-   **功能**：沿**列方向（水平方向）** 拼接 `X` 和 `Y`。\n",
    "\n",
    "-   **操作逻辑**：\n",
    "\n",
    "    -   `X` 和 `Y` 的行数必须一致（均为 3 行）。\n",
    "    -   将 `Y` 的列追加到 `X` 的列右侧。\n",
    "\n",
    "-   **结果形状**：`(3, 4+4) = (3, 8)`\n",
    "\n",
    "-   **输出结果**：\n",
    "\n",
    "    ```\n",
    "    tensor([[ 0.,  1.,  2.,  3.,  2.,  1.,  4.,  3.],  # X的第一行 + Y的第一行\n",
    "            [ 4.,  5.,  6.,  7.,  1.,  2.,  3.,  4.],  # X的第二行 + Y的第二行\n",
    "            [ 8.,  9., 10., 11.,  4.,  3.,  2.,  1.]]) # X的第三行 + Y的第三行\n",
    "    ```\n",
    "\n",
    "---\n",
    "\n",
    "### **4. 可视化总结**\n",
    "\n",
    "| 操作    | 输入形状            | 拼接方向 | 结果形状 | 结果结构           |\n",
    "| ------- | ------------------- | -------- | -------- | ------------------ |\n",
    "| `dim=0` | `X(3,4)` + `Y(3,4)` | 垂直     | `(6,4)`  | `X` 在上，`Y` 在下 |\n",
    "| `dim=1` | `X(3,4)` + `Y(3,4)` | 水平     | `(3,8)`  | `X` 在左，`Y` 在右 |\n",
    "\n",
    "---\n",
    "\n",
    "### **5. 关键规则**\n",
    "\n",
    "-   **维度一致性**：\n",
    "    -   `dim=0` 要求两个张量的**列数相同**。\n",
    "    -   `dim=1` 要求两个张量的**行数相同**。\n",
    "-   **应用场景**：\n",
    "    -   合并多个批量的数据（`dim=0`）。\n",
    "    -   合并不同特征的数据（`dim=1`）。\n"
   ]
  },
  {
   "cell_type": "code",
   "execution_count": null,
   "id": "56ca1142-78b7-471d-8343-c2eccd8b2c3f",
   "metadata": {},
   "outputs": [
    {
     "data": {
      "text/plain": [
       "tensor([[False,  True, False,  True],\n",
       "        [False, False, False, False],\n",
       "        [False, False, False, False]])"
      ]
     },
     "execution_count": 109,
     "metadata": {},
     "output_type": "execute_result"
    }
   ],
   "source": [
    "X == Y\n"
   ]
  },
  {
   "cell_type": "code",
   "execution_count": null,
   "id": "b101d4eb-fe0d-442a-909e-f177fc705e85",
   "metadata": {},
   "outputs": [
    {
     "data": {
      "text/plain": [
       "tensor(66.)"
      ]
     },
     "execution_count": 110,
     "metadata": {},
     "output_type": "execute_result"
    }
   ],
   "source": [
    "X.sum()\n"
   ]
  },
  {
   "cell_type": "code",
   "execution_count": null,
   "id": "ee1cf3ac-a596-44ae-8f4a-11cbd261863a",
   "metadata": {},
   "outputs": [
    {
     "data": {
      "text/plain": [
       "(tensor([[0],\n",
       "         [1],\n",
       "         [2]]),\n",
       " tensor([[0, 1]]))"
      ]
     },
     "execution_count": 111,
     "metadata": {},
     "output_type": "execute_result"
    }
   ],
   "source": [
    "a = torch.arange(3).reshape((3, 1))\n",
    "b = torch.arange(2).reshape((1, 2))\n",
    "\n",
    "a,b\n"
   ]
  },
  {
   "cell_type": "code",
   "execution_count": null,
   "id": "7fbb3155",
   "metadata": {},
   "outputs": [
    {
     "data": {
      "text/plain": [
       "tensor([[0, 1],\n",
       "        [1, 2],\n",
       "        [2, 3]])"
      ]
     },
     "execution_count": 112,
     "metadata": {},
     "output_type": "execute_result"
    }
   ],
   "source": [
    "a+b\n"
   ]
  },
  {
   "cell_type": "code",
   "execution_count": null,
   "id": "7bbf273a",
   "metadata": {},
   "outputs": [
    {
     "data": {
      "text/plain": [
       "tensor([[ 0.,  1.,  2.,  3.],\n",
       "        [ 4.,  5.,  6.,  7.],\n",
       "        [ 8.,  9., 10., 11.]])"
      ]
     },
     "execution_count": 113,
     "metadata": {},
     "output_type": "execute_result"
    }
   ],
   "source": [
    "X = torch.arange(12, dtype=torch.float32).reshape((3, 4))\n",
    "X\n"
   ]
  },
  {
   "cell_type": "code",
   "execution_count": null,
   "id": "b5e43a49",
   "metadata": {},
   "outputs": [
    {
     "data": {
      "text/plain": [
       "(tensor([ 8.,  9., 10., 11.]),\n",
       " tensor([[ 4.,  5.,  6.,  7.],\n",
       "         [ 8.,  9., 10., 11.]]))"
      ]
     },
     "execution_count": 114,
     "metadata": {},
     "output_type": "execute_result"
    }
   ],
   "source": [
    "X[-1], X[1:3]\n"
   ]
  },
  {
   "cell_type": "code",
   "execution_count": null,
   "id": "4e6a717d",
   "metadata": {},
   "outputs": [
    {
     "data": {
      "text/plain": [
       "tensor([[ 0.,  1.,  2.,  3.],\n",
       "        [ 4.,  5.,  9.,  7.],\n",
       "        [ 8.,  9., 10., 11.]])"
      ]
     },
     "execution_count": 115,
     "metadata": {},
     "output_type": "execute_result"
    }
   ],
   "source": [
    "X[1, 2] = 9\n",
    "X\n"
   ]
  },
  {
   "cell_type": "code",
   "execution_count": null,
   "id": "91d27a92",
   "metadata": {},
   "outputs": [
    {
     "data": {
      "text/plain": [
       "tensor([[12., 12., 12., 12.],\n",
       "        [12., 12., 12., 12.],\n",
       "        [ 8.,  9., 10., 11.]])"
      ]
     },
     "execution_count": 116,
     "metadata": {},
     "output_type": "execute_result"
    }
   ],
   "source": [
    "X[0:2, :] = 12\n",
    "X\n"
   ]
  },
  {
   "cell_type": "code",
   "execution_count": null,
   "id": "76738fbe",
   "metadata": {},
   "outputs": [
    {
     "data": {
      "text/plain": [
       "False"
      ]
     },
     "execution_count": 117,
     "metadata": {},
     "output_type": "execute_result"
    }
   ],
   "source": [
    "before = id(Y)\n",
    "Y = Y + X\n",
    "id(Y) == before\n"
   ]
  },
  {
   "cell_type": "code",
   "execution_count": null,
   "id": "6ce3216f",
   "metadata": {},
   "outputs": [
    {
     "name": "stdout",
     "output_type": "stream",
     "text": [
      "id(z) = 13003527408\n",
      "id(z) = 13003527408\n"
     ]
    }
   ],
   "source": [
    "Z = torch.zeros_like(Y)\n",
    "print('id(z) =', id(Z))\n",
    "Z[:] = X + Y\n",
    "print('id(z) =', id(Z))\n"
   ]
  },
  {
   "cell_type": "code",
   "execution_count": null,
   "id": "cf16f09b",
   "metadata": {},
   "outputs": [
    {
     "data": {
      "text/plain": [
       "(numpy.ndarray, torch.Tensor)"
      ]
     },
     "execution_count": 119,
     "metadata": {},
     "output_type": "execute_result"
    }
   ],
   "source": [
    "A = X.numpy()\n",
    "B = torch.tensor(A)\n",
    "type(A), type(B)\n"
   ]
  },
  {
   "cell_type": "code",
   "execution_count": null,
   "id": "fefa6d19",
   "metadata": {},
   "outputs": [
    {
     "data": {
      "text/plain": [
       "(tensor([3.4000]), 3.4000000953674316, 3.4000000953674316, 3)"
      ]
     },
     "execution_count": 120,
     "metadata": {},
     "output_type": "execute_result"
    }
   ],
   "source": [
    "a = torch.tensor([3.4])\n",
    "a, a.item(),float(a),int(a)\n"
   ]
  },
  {
   "cell_type": "code",
   "execution_count": null,
   "id": "903079d5",
   "metadata": {},
   "outputs": [
    {
     "name": "stdout",
     "output_type": "stream",
     "text": [
      "文件已生成！路径：/Volumes/SN580/code/d2l-zh/data/house_tiny.csv\n",
      "文件内容验证成功！\n"
     ]
    }
   ],
   "source": [
    "import os\n",
    "\n",
    "# 1. 定义目标路径（当前工作目录下的 data 文件夹）\n",
    "current_dir = os.getcwd()\n",
    "data_dir = os.path.join(current_dir, 'data')\n",
    "os.makedirs(data_dir, exist_ok=True)\n",
    "\n",
    "# 2. 创建文件路径\n",
    "data_file = os.path.join(data_dir, 'house_tiny.csv')\n",
    "\n",
    "# 3. 写入文件（注意缩进！）\n",
    "try:\n",
    "    with open(data_file, 'w') as f:\n",
    "        f.write('NumRooms,Alley,Price\\n')\n",
    "        f.write('NA,Pave,127500\\n')\n",
    "        f.write('2,NA,106000\\n')\n",
    "        f.write('4,NA,178100\\n')\n",
    "        f.write('NA,NA,140000\\n')\n",
    "    print(f\"文件已生成！路径：{os.path.abspath(data_file)}\")\n",
    "except PermissionError:\n",
    "    print(\"权限不足！请检查目录写入权限。\")\n",
    "except Exception as e:\n",
    "    print(f\"未知错误：{str(e)}\")\n",
    "\n",
    "# 4. 验证文件内容\n",
    "if os.path.exists(data_file):\n",
    "    with open(data_file, 'r') as f:\n",
    "        print(\"文件内容验证成功！\")\n",
    "else:\n",
    "    print(\"文件未生成！\")\n",
    "\n"
   ]
  },
  {
   "cell_type": "code",
   "execution_count": null,
   "id": "ee67d0d5",
   "metadata": {},
   "outputs": [
    {
     "name": "stdout",
     "output_type": "stream",
     "text": [
      "   NumRooms Alley   Price\n",
      "0       NaN  Pave  127500\n",
      "1       2.0   NaN  106000\n",
      "2       4.0   NaN  178100\n",
      "3       NaN   NaN  140000\n"
     ]
    }
   ],
   "source": [
    "import pandas as pd\n",
    "data = pd.read_csv('data/house_tiny.csv')\n",
    "print(data)\n"
   ]
  },
  {
   "cell_type": "code",
   "execution_count": null,
   "id": "1c9774cf",
   "metadata": {},
   "outputs": [
    {
     "name": "stdout",
     "output_type": "stream",
     "text": [
      "\n",
      "处理后的数据：\n",
      "   NumRooms Alley\n",
      "0       3.0  Pave\n",
      "1       2.0   NaN\n",
      "2       4.0   NaN\n",
      "3       3.0   NaN\n"
     ]
    }
   ],
   "source": [
    "# inputs, outputs = data.iloc[:, 0:2], data.iloc[:, 2]\n",
    "# inputs = inputs.fillna(inputs.mean())\n",
    "# print(inputs)\n",
    "\n",
    "\n",
    "# 分割输入特征和标签\n",
    "inputs, outputs = data.iloc[:, 0:2], data.iloc[:, 2]\n",
    "\n",
    "# 仅处理数值列（NumRooms）\n",
    "numeric_cols = inputs.select_dtypes(include=['float64', 'int64']).columns\n",
    "inputs[numeric_cols] = inputs[numeric_cols].fillna(inputs[numeric_cols].mean())\n",
    "\n",
    "print(\"\\n处理后的数据：\")\n",
    "print(inputs)\n"
   ]
  },
  {
   "cell_type": "code",
   "execution_count": null,
   "id": "4bbbfb6a",
   "metadata": {},
   "outputs": [
    {
     "name": "stdout",
     "output_type": "stream",
     "text": [
      "   NumRooms  Alley_Pave  Alley_nan\n",
      "0       3.0        True      False\n",
      "1       2.0       False       True\n",
      "2       4.0       False       True\n",
      "3       3.0       False       True\n"
     ]
    }
   ],
   "source": [
    "inputs = pd.get_dummies(inputs, dummy_na=True)\n",
    "print(inputs)\n"
   ]
  },
  {
   "cell_type": "code",
   "execution_count": null,
   "id": "69bfe273",
   "metadata": {},
   "outputs": [
    {
     "data": {
      "text/plain": [
       "(tensor([[3., 1., 0.],\n",
       "         [2., 0., 1.],\n",
       "         [4., 0., 1.],\n",
       "         [3., 0., 1.]], dtype=torch.float64),\n",
       " tensor([127500., 106000., 178100., 140000.], dtype=torch.float64))"
      ]
     },
     "execution_count": 139,
     "metadata": {},
     "output_type": "execute_result"
    }
   ],
   "source": [
    "import torch\n",
    "X = torch.tensor(inputs.to_numpy(dtype=float))\n",
    "y = torch.tensor(outputs.to_numpy(dtype=float))\n",
    "X , y\n"
   ]
  },
  {
   "cell_type": "code",
   "execution_count": null,
   "id": "aa707407",
   "metadata": {},
   "outputs": [
    {
     "name": "stdout",
     "output_type": "stream",
     "text": [
      "删除了包含缺失值的列 'Alley'\n"
     ]
    },
    {
     "data": {
      "text/html": [
       "<div>\n",
       "<style scoped>\n",
       "    .dataframe tbody tr th:only-of-type {\n",
       "        vertical-align: middle;\n",
       "    }\n",
       "\n",
       "    .dataframe tbody tr th {\n",
       "        vertical-align: top;\n",
       "    }\n",
       "\n",
       "    .dataframe thead th {\n",
       "        text-align: right;\n",
       "    }\n",
       "</style>\n",
       "<table border=\"1\" class=\"dataframe\">\n",
       "  <thead>\n",
       "    <tr style=\"text-align: right;\">\n",
       "      <th></th>\n",
       "      <th>NumRooms</th>\n",
       "      <th>Price</th>\n",
       "    </tr>\n",
       "  </thead>\n",
       "  <tbody>\n",
       "    <tr>\n",
       "      <th>0</th>\n",
       "      <td>NaN</td>\n",
       "      <td>127500</td>\n",
       "    </tr>\n",
       "    <tr>\n",
       "      <th>1</th>\n",
       "      <td>2.0</td>\n",
       "      <td>106000</td>\n",
       "    </tr>\n",
       "    <tr>\n",
       "      <th>2</th>\n",
       "      <td>4.0</td>\n",
       "      <td>178100</td>\n",
       "    </tr>\n",
       "    <tr>\n",
       "      <th>3</th>\n",
       "      <td>NaN</td>\n",
       "      <td>140000</td>\n",
       "    </tr>\n",
       "  </tbody>\n",
       "</table>\n",
       "</div>"
      ],
      "text/plain": [
       "   NumRooms   Price\n",
       "0       NaN  127500\n",
       "1       2.0  106000\n",
       "2       4.0  178100\n",
       "3       NaN  140000"
      ]
     },
     "execution_count": 140,
     "metadata": {},
     "output_type": "execute_result"
    }
   ],
   "source": [
    "missing_count = data.isna().sum()\n",
    "max_missing_col = missing_count.idxmax()\n",
    "\n",
    "if missing_count[max_missing_col] > 0:\n",
    "    data = data.drop(columns=[max_missing_col])\n",
    "    print(f\"删除了包含缺失值的列 '{max_missing_col}'\")\n",
    "else:\n",
    "    print(\"没有包含缺失值的列需要删除。\")\n",
    "data\n"
   ]
  },
  {
   "cell_type": "code",
   "execution_count": null,
   "id": "d1b60091",
   "metadata": {},
   "outputs": [
    {
     "data": {
      "text/plain": [
       "tensor([[       nan, 1.2750e+05],\n",
       "        [2.0000e+00, 1.0600e+05],\n",
       "        [4.0000e+00, 1.7810e+05],\n",
       "        [       nan, 1.4000e+05]], dtype=torch.float64)"
      ]
     },
     "execution_count": 146,
     "metadata": {},
     "output_type": "execute_result"
    }
   ],
   "source": [
    "X = torch.tensor(data.to_numpy(dtype=float))\n",
    "X\n"
   ]
  },
  {
   "cell_type": "code",
   "execution_count": null,
   "id": "95e58c43",
   "metadata": {},
   "outputs": [
    {
     "data": {
      "text/plain": [
       "(tensor(7.),\n",
       " tensor(-1.),\n",
       " tensor(12.),\n",
       " tensor(0.7500),\n",
       " tensor(9.),\n",
       " tensor(0.),\n",
       " tensor(3.),\n",
       " tensor(1.7321))"
      ]
     },
     "execution_count": 2,
     "metadata": {},
     "output_type": "execute_result"
    }
   ],
   "source": [
    "import torch\n",
    "x = torch.tensor(3.0)\n",
    "y = torch.tensor(4.0)\n",
    "\n",
    "x+y, x-y, x*y, x/y,x**2, x//y, x%y, x**0.5\n"
   ]
  },
  {
   "cell_type": "code",
   "execution_count": null,
   "id": "35e66a6b",
   "metadata": {},
   "outputs": [
    {
     "data": {
      "text/plain": [
       "tensor(2)"
      ]
     },
     "execution_count": 5,
     "metadata": {},
     "output_type": "execute_result"
    }
   ],
   "source": [
    "x=torch.arange(4)\n",
    "x\n",
    "x[2]\n"
   ]
  },
  {
   "cell_type": "code",
   "execution_count": null,
   "id": "fa52a2cb",
   "metadata": {},
   "outputs": [
    {
     "data": {
      "text/plain": [
       "tensor([[ 0,  4,  8, 12, 16],\n",
       "        [ 1,  5,  9, 13, 17],\n",
       "        [ 2,  6, 10, 14, 18],\n",
       "        [ 3,  7, 11, 15, 19]])"
      ]
     },
     "execution_count": 9,
     "metadata": {},
     "output_type": "execute_result"
    }
   ],
   "source": [
    "A = torch.arange(20).reshape((5, 4))\n",
    "A\n",
    "A.T\n"
   ]
  },
  {
   "cell_type": "code",
   "execution_count": null,
   "id": "b2ff13f6",
   "metadata": {},
   "outputs": [
    {
     "data": {
      "text/plain": [
       "tensor([[True, True, True],\n",
       "        [True, True, True],\n",
       "        [True, True, True]])"
      ]
     },
     "execution_count": 11,
     "metadata": {},
     "output_type": "execute_result"
    }
   ],
   "source": [
    "B = torch.tensor([[1, 2, 3], [2, 0, 4], [3, 4, 5]])\n",
    "B == B.T\n"
   ]
  },
  {
   "cell_type": "code",
   "execution_count": 14,
   "id": "bca0711c",
   "metadata": {},
   "outputs": [
    {
     "data": {
      "text/plain": [
       "tensor([[[[[ 0,  1],\n",
       "           [ 2,  3]],\n",
       "\n",
       "          [[ 4,  5],\n",
       "           [ 6,  7]]],\n",
       "\n",
       "\n",
       "         [[[ 8,  9],\n",
       "           [10, 11]],\n",
       "\n",
       "          [[12, 13],\n",
       "           [14, 15]]],\n",
       "\n",
       "\n",
       "         [[[16, 17],\n",
       "           [18, 19]],\n",
       "\n",
       "          [[20, 21],\n",
       "           [22, 23]]]],\n",
       "\n",
       "\n",
       "\n",
       "        [[[[24, 25],\n",
       "           [26, 27]],\n",
       "\n",
       "          [[28, 29],\n",
       "           [30, 31]]],\n",
       "\n",
       "\n",
       "         [[[32, 33],\n",
       "           [34, 35]],\n",
       "\n",
       "          [[36, 37],\n",
       "           [38, 39]]],\n",
       "\n",
       "\n",
       "         [[[40, 41],\n",
       "           [42, 43]],\n",
       "\n",
       "          [[44, 45],\n",
       "           [46, 47]]]]])"
      ]
     },
     "execution_count": 14,
     "metadata": {},
     "output_type": "execute_result"
    }
   ],
   "source": [
    "X = torch.arange(48).reshape(2, 3, 2,2,2)\n",
    "X\n"
   ]
  },
  {
   "cell_type": "code",
   "execution_count": 23,
   "id": "dca009f4",
   "metadata": {},
   "outputs": [
    {
     "data": {
      "text/plain": [
       "(tensor([[ 0.,  1.,  2.,  3.],\n",
       "         [ 4.,  5.,  6.,  7.],\n",
       "         [ 8.,  9., 10., 11.],\n",
       "         [12., 13., 14., 15.],\n",
       "         [16., 17., 18., 19.]]),\n",
       " tensor([[ 0.,  1.,  2.,  3.],\n",
       "         [ 4.,  5.,  6.,  7.],\n",
       "         [ 8.,  9., 10., 11.],\n",
       "         [12., 13., 14., 15.],\n",
       "         [16., 17., 18., 19.]]),\n",
       " tensor([[ 0.,  2.,  4.,  6.],\n",
       "         [ 8., 10., 12., 14.],\n",
       "         [16., 18., 20., 22.],\n",
       "         [24., 26., 28., 30.],\n",
       "         [32., 34., 36., 38.]]),\n",
       " tensor([[  0.,   1.,   4.,   9.],\n",
       "         [ 16.,  25.,  36.,  49.],\n",
       "         [ 64.,  81., 100., 121.],\n",
       "         [144., 169., 196., 225.],\n",
       "         [256., 289., 324., 361.]]))"
      ]
     },
     "execution_count": 23,
     "metadata": {},
     "output_type": "execute_result"
    }
   ],
   "source": [
    "A = torch.arange(20,dtype=torch.float32).reshape(5, 4)\n",
    "B = A.clone()\n",
    "A, B,A+B,A *B\n"
   ]
  },
  {
   "cell_type": "code",
   "execution_count": null,
   "id": "79eb8067",
   "metadata": {},
   "outputs": [
    {
     "data": {
      "text/plain": [
       "tensor(6.)"
      ]
     },
     "execution_count": 21,
     "metadata": {},
     "output_type": "execute_result"
    }
   ],
   "source": [
    "x= torch.arange(4,dtype=torch.float32)\n",
    "x.sum()\n"
   ]
  },
  {
   "cell_type": "code",
   "execution_count": 26,
   "id": "3178dabc",
   "metadata": {},
   "outputs": [
    {
     "data": {
      "text/plain": [
       "(tensor([ 8.,  9., 10., 11.]),\n",
       " tensor([ 8.,  9., 10., 11.]),\n",
       " tensor([40., 45., 50., 55.]))"
      ]
     },
     "execution_count": 26,
     "metadata": {},
     "output_type": "execute_result"
    }
   ],
   "source": [
    "A_sum_axis1 = A.sum(axis=1)\n",
    "A_sum_axis1, A_sum_axis1.shape\n",
    "A.sum(axis=0),A.sum(axis=(0,1))\n",
    "A.mean(axis=0),A.sum(axis=0)/A.shape[0],A.sum(axis=0)\n"
   ]
  },
  {
   "cell_type": "code",
   "execution_count": 30,
   "id": "16312ff1",
   "metadata": {},
   "outputs": [
    {
     "data": {
      "text/plain": [
       "(tensor([[ 6.],\n",
       "         [22.],\n",
       "         [38.],\n",
       "         [54.],\n",
       "         [70.]]),\n",
       " tensor([[ 0.,  1.,  2.,  3.],\n",
       "         [ 4.,  5.,  6.,  7.],\n",
       "         [ 8.,  9., 10., 11.],\n",
       "         [12., 13., 14., 15.],\n",
       "         [16., 17., 18., 19.]]),\n",
       " tensor([[0.0000, 0.1667, 0.3333, 0.5000],\n",
       "         [0.1818, 0.2273, 0.2727, 0.3182],\n",
       "         [0.2105, 0.2368, 0.2632, 0.2895],\n",
       "         [0.2222, 0.2407, 0.2593, 0.2778],\n",
       "         [0.2286, 0.2429, 0.2571, 0.2714]]),\n",
       " tensor([[ 0.,  1.,  3.,  6.],\n",
       "         [ 4.,  9., 15., 22.],\n",
       "         [ 8., 17., 27., 38.],\n",
       "         [12., 25., 39., 54.],\n",
       "         [16., 33., 51., 70.]]))"
      ]
     },
     "execution_count": 30,
     "metadata": {},
     "output_type": "execute_result"
    }
   ],
   "source": [
    "sum_A = A.sum(axis=1, keepdims=True)\n",
    "sum_A,A,A/sum_A,A.cumsum(axis=1)\n"
   ]
  }
 ],
 "metadata": {
  "kernelspec": {
   "display_name": "d2l",
   "language": "python",
   "name": "python3"
  },
  "language_info": {
   "codemirror_mode": {
    "name": "ipython",
    "version": 3
   },
   "file_extension": ".py",
   "mimetype": "text/x-python",
   "name": "python",
   "nbconvert_exporter": "python",
   "pygments_lexer": "ipython3",
   "version": "3.9.21"
  }
 },
 "nbformat": 4,
 "nbformat_minor": 5
}
