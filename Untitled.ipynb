{
 "cells": [
  {
   "cell_type": "code",
   "execution_count": 2,
   "id": "e7fcf33a-c014-4544-9c87-921d414436a4",
   "metadata": {},
   "outputs": [],
   "source": [
    "import torch"
   ]
  },
  {
   "cell_type": "code",
   "execution_count": 13,
   "id": "3a6ae451-5482-4478-91ca-f672e81d8abe",
   "metadata": {},
   "outputs": [
    {
     "data": {
      "text/plain": [
       "tensor([ 0,  1,  2,  3,  4,  5,  6,  7,  8,  9, 10, 11])"
      ]
     },
     "execution_count": 13,
     "metadata": {},
     "output_type": "execute_result"
    }
   ],
   "source": [
    "x= torch.arange(12)\n",
    "x"
   ]
  },
  {
   "cell_type": "code",
   "execution_count": 14,
   "id": "1220cdcd-8528-4918-b453-225ff7f7c83e",
   "metadata": {},
   "outputs": [
    {
     "data": {
      "text/plain": [
       "torch.Size([12])"
      ]
     },
     "execution_count": 14,
     "metadata": {},
     "output_type": "execute_result"
    }
   ],
   "source": [
    "x.shape"
   ]
  },
  {
   "cell_type": "markdown",
   "id": "4d2382b9-a3b1-4e25-acc8-4012e17930f2",
   "metadata": {},
   "source": [
    "shape 不能加括号"
   ]
  },
  {
   "cell_type": "code",
   "execution_count": 16,
   "id": "4fa1838e-9f67-4b9a-b4db-ece9e0bb2d52",
   "metadata": {},
   "outputs": [
    {
     "data": {
      "text/plain": [
       "12"
      ]
     },
     "execution_count": 16,
     "metadata": {},
     "output_type": "execute_result"
    }
   ],
   "source": [
    "x.numel()"
   ]
  },
  {
   "cell_type": "code",
   "execution_count": 21,
   "id": "338ce436-b3fd-4a07-aed0-4cbd5420c9d7",
   "metadata": {},
   "outputs": [
    {
     "data": {
      "text/plain": [
       "tensor([[ 0,  1,  2,  3],\n",
       "        [ 4,  5,  6,  7],\n",
       "        [ 8,  9, 10, 11]])"
      ]
     },
     "execution_count": 21,
     "metadata": {},
     "output_type": "execute_result"
    }
   ],
   "source": [
    "X = x.reshape(-1,4)\n",
    "X"
   ]
  },
  {
   "cell_type": "code",
   "execution_count": 24,
   "id": "e5220b14-05b3-44b6-98de-cb15244c8f60",
   "metadata": {},
   "outputs": [
    {
     "data": {
      "text/plain": [
       "tensor([[[0., 0., 0., 0.],\n",
       "         [0., 0., 0., 0.],\n",
       "         [0., 0., 0., 0.]],\n",
       "\n",
       "        [[0., 0., 0., 0.],\n",
       "         [0., 0., 0., 0.],\n",
       "         [0., 0., 0., 0.]]])"
      ]
     },
     "execution_count": 24,
     "metadata": {},
     "output_type": "execute_result"
    }
   ],
   "source": [
    "torch.zeros(2,3,4)"
   ]
  },
  {
   "cell_type": "code",
   "execution_count": 30,
   "id": "0fa0b915-c0fc-4a59-a65b-5e96914d33d5",
   "metadata": {},
   "outputs": [
    {
     "data": {
      "text/plain": [
       "tensor([[[1., 1., 1., 1.],\n",
       "         [1., 1., 1., 1.],\n",
       "         [1., 1., 1., 1.]],\n",
       "\n",
       "        [[1., 1., 1., 1.],\n",
       "         [1., 1., 1., 1.],\n",
       "         [1., 1., 1., 1.]]])"
      ]
     },
     "execution_count": 30,
     "metadata": {},
     "output_type": "execute_result"
    }
   ],
   "source": [
    "torch.ones(2,3,4)"
   ]
  },
  {
   "cell_type": "code",
   "execution_count": 31,
   "id": "224b94d2-49a5-4802-9e79-6f663a6025e9",
   "metadata": {},
   "outputs": [
    {
     "data": {
      "text/plain": [
       "tensor([[-0.0259,  0.9510,  1.7281, -0.9688],\n",
       "        [ 0.4877,  0.2088,  2.4780,  1.6661],\n",
       "        [-1.2412,  0.0087,  0.0255,  0.0292]])"
      ]
     },
     "execution_count": 31,
     "metadata": {},
     "output_type": "execute_result"
    }
   ],
   "source": [
    "torch.randn(3,4)"
   ]
  },
  {
   "cell_type": "code",
   "execution_count": 32,
   "id": "26cf4531-6ccc-49ad-aa5d-42d94ba37acb",
   "metadata": {},
   "outputs": [
    {
     "data": {
      "text/plain": [
       "tensor([[2, 1, 4, 3],\n",
       "        [1, 2, 3, 4],\n",
       "        [4, 3, 2, 1]])"
      ]
     },
     "execution_count": 32,
     "metadata": {},
     "output_type": "execute_result"
    }
   ],
   "source": [
    "torch.tensor([[2, 1, 4, 3], [1, 2, 3, 4], [4, 3, 2, 1]])"
   ]
  },
  {
   "cell_type": "code",
   "execution_count": 3,
   "id": "5bed362f-41c2-4266-abec-b60e8c802be4",
   "metadata": {},
   "outputs": [
    {
     "data": {
      "text/plain": [
       "(tensor([ 3.,  4.,  6., 10.]),\n",
       " tensor([-1.,  0.,  2.,  6.]),\n",
       " tensor([ 2.,  4.,  8., 16.]),\n",
       " tensor([0.5000, 1.0000, 2.0000, 4.0000]),\n",
       " tensor([ 1.,  4., 16., 64.]))"
      ]
     },
     "execution_count": 3,
     "metadata": {},
     "output_type": "execute_result"
    }
   ],
   "source": [
    "x = torch.tensor([1.0, 2, 4, 8]) \n",
    "y = torch.tensor([2, 2, 2, 2]) \n",
    "x + y, x - y, x * y, x / y, x ** y"
   ]
  },
  {
   "cell_type": "code",
   "execution_count": 4,
   "id": "e0953607-516e-49d3-8894-941c91bce4ca",
   "metadata": {},
   "outputs": [
    {
     "data": {
      "text/plain": [
       "tensor([2.7183e+00, 7.3891e+00, 5.4598e+01, 2.9810e+03])"
      ]
     },
     "execution_count": 4,
     "metadata": {},
     "output_type": "execute_result"
    }
   ],
   "source": [
    "torch.exp(x)"
   ]
  },
  {
   "cell_type": "code",
   "execution_count": 8,
   "id": "88316d56-f7eb-4193-be8f-4b39e0b17bd8",
   "metadata": {},
   "outputs": [
    {
     "data": {
      "text/plain": [
       "(tensor([[ 0.,  1.,  2.,  3.],\n",
       "         [ 4.,  5.,  6.,  7.],\n",
       "         [ 8.,  9., 10., 11.],\n",
       "         [ 2.,  1.,  4.,  3.],\n",
       "         [ 1.,  2.,  3.,  4.],\n",
       "         [ 4.,  3.,  2.,  1.]]),\n",
       " tensor([[ 0.,  1.,  2.,  3.,  2.,  1.,  4.,  3.],\n",
       "         [ 4.,  5.,  6.,  7.,  1.,  2.,  3.,  4.],\n",
       "         [ 8.,  9., 10., 11.,  4.,  3.,  2.,  1.]]))"
      ]
     },
     "execution_count": 8,
     "metadata": {},
     "output_type": "execute_result"
    }
   ],
   "source": [
    "X = torch.arange(12, dtype=torch.float32).reshape((3,4)) \n",
    "Y = torch.tensor([[2.0, 1, 4, 3], [1, 2, 3, 4], [4, 3, 2, 1]]) \n",
    "torch.cat((X, Y), dim=0), torch.cat((X, Y), dim=1)"
   ]
  },
  {
   "cell_type": "markdown",
   "id": "6372c6b4-ab23-4fc4-bf40-56702023f946",
   "metadata": {},
   "source": [
    "我来详细解释这两个命令的操作过程和结果：\n",
    "\n",
    "---\n",
    "\n",
    "### **1. 张量定义**\n",
    "\n",
    "- **X**：通过以下代码生成：\n",
    "\n",
    "  ```python\n",
    "  X = torch.arange(12, dtype=torch.float32).reshape((3,4))\n",
    "  ```\n",
    "\n",
    "  - `torch.arange(12)` 生成 `[0, 1, 2, ..., 11]`，转换为 `float32` 类型。\n",
    "\n",
    "  - `reshape((3,4))` 将其重塑为 **3行4列** 的矩阵：\n",
    "\n",
    "    ```\n",
    "    tensor([[ 0.,  1.,  2.,  3.],\n",
    "            [ 4.,  5.,  6.,  7.],\n",
    "            [ 8.,  9., 10., 11.]])\n",
    "    ```\n",
    "\n",
    "- **Y**：直接定义为：\n",
    "\n",
    "  ```python\n",
    "  Y = torch.tensor([[2.0, 1, 4, 3], [1, 2, 3, 4], [4, 3, 2, 1]])\n",
    "  ```\n",
    "\n",
    "  - 它是一个 **3行4列** 的矩阵：\n",
    "\n",
    "    ```\n",
    "    tensor([[2., 1., 4., 3.],\n",
    "            [1., 2., 3., 4.],\n",
    "            [4., 3., 2., 1.]])\n",
    "    ```\n",
    "\n",
    "---\n",
    "\n",
    "### **2. `torch.cat((X, Y), dim=0)`**\n",
    "\n",
    "- **功能**：沿**行方向（垂直方向）** 拼接 `X` 和 `Y`。\n",
    "\n",
    "- **操作逻辑**：\n",
    "\n",
    "  - `X` 和 `Y` 的列数必须一致（均为4列）。\n",
    "  - 将 `Y` 的行追加到 `X` 的行下方。\n",
    "\n",
    "- **结果形状**：`(3+3, 4) = (6, 4)`\n",
    "\n",
    "- **输出结果**：\n",
    "\n",
    "  ```\n",
    "  tensor([[ 0.,  1.,  2.,  3.],\n",
    "          [ 4.,  5.,  6.,  7.],\n",
    "          [ 8.,  9., 10., 11.],\n",
    "          [ 2.,  1.,  4.,  3.],  # Y 的第一行\n",
    "          [ 1.,  2.,  3.,  4.],  # Y 的第二行\n",
    "          [ 4.,  3.,  2.,  1.]]) # Y 的第三行\n",
    "  ```\n",
    "\n",
    "---\n",
    "\n",
    "### **3. `torch.cat((X, Y), dim=1)`**\n",
    "\n",
    "- **功能**：沿**列方向（水平方向）** 拼接 `X` 和 `Y`。\n",
    "\n",
    "- **操作逻辑**：\n",
    "\n",
    "  - `X` 和 `Y` 的行数必须一致（均为3行）。\n",
    "  - 将 `Y` 的列追加到 `X` 的列右侧。\n",
    "\n",
    "- **结果形状**：`(3, 4+4) = (3, 8)`\n",
    "\n",
    "- **输出结果**：\n",
    "\n",
    "  ```\n",
    "  tensor([[ 0.,  1.,  2.,  3.,  2.,  1.,  4.,  3.],  # X的第一行 + Y的第一行\n",
    "          [ 4.,  5.,  6.,  7.,  1.,  2.,  3.,  4.],  # X的第二行 + Y的第二行\n",
    "          [ 8.,  9., 10., 11.,  4.,  3.,  2.,  1.]]) # X的第三行 + Y的第三行\n",
    "  ```\n",
    "\n",
    "---\n",
    "\n",
    "### **4. 可视化总结**\n",
    "\n",
    "| 操作    | 输入形状            | 拼接方向 | 结果形状 | 结果结构           |\n",
    "| ------- | ------------------- | -------- | -------- | ------------------ |\n",
    "| `dim=0` | `X(3,4)` + `Y(3,4)` | 垂直     | `(6,4)`  | `X` 在上，`Y` 在下 |\n",
    "| `dim=1` | `X(3,4)` + `Y(3,4)` | 水平     | `(3,8)`  | `X` 在左，`Y` 在右 |\n",
    "\n",
    "---\n",
    "\n",
    "### **5. 关键规则**\n",
    "\n",
    "- **维度一致性**：\n",
    "  - `dim=0` 要求两个张量的**列数相同**。\n",
    "  - `dim=1` 要求两个张量的**行数相同**。\n",
    "- **应用场景**：\n",
    "  - 合并多个批量的数据（`dim=0`）。\n",
    "  - 合并不同特征的数据（`dim=1`）。\n",
    "\n",
    "如果有其他疑问，可以继续提问！"
   ]
  },
  {
   "cell_type": "code",
   "execution_count": null,
   "id": "56ca1142-78b7-471d-8343-c2eccd8b2c3f",
   "metadata": {},
   "outputs": [],
   "source": []
  }
 ],
 "metadata": {
  "kernelspec": {
   "display_name": "Python 3 (ipykernel)",
   "language": "python",
   "name": "python3"
  },
  "language_info": {
   "codemirror_mode": {
    "name": "ipython",
    "version": 3
   },
   "file_extension": ".py",
   "mimetype": "text/x-python",
   "name": "python",
   "nbconvert_exporter": "python",
   "pygments_lexer": "ipython3",
   "version": "3.9.21"
  }
 },
 "nbformat": 4,
 "nbformat_minor": 5
}
